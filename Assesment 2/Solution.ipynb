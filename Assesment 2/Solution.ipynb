{
 "cells": [
  {
   "cell_type": "markdown",
   "id": "12b60b03",
   "metadata": {},
   "source": [
    "Imports\n"
   ]
  },
  {
   "cell_type": "code",
   "execution_count": 33,
   "id": "20870fad",
   "metadata": {},
   "outputs": [],
   "source": [
    "import pandas as pd\n",
    "import numpy as np\n",
    "import statistics\n",
    "from scipy import stats\n",
    "from statsmodels.stats import proportion\n",
    "import seaborn as sns\n",
    "import matplotlib.pyplot as plt\n"
   ]
  },
  {
   "cell_type": "markdown",
   "id": "38f0d9d2",
   "metadata": {},
   "source": [
    "Load both datasets:"
   ]
  },
  {
   "cell_type": "code",
   "execution_count": 34,
   "id": "97fa7cfb",
   "metadata": {},
   "outputs": [],
   "source": [
    "df1 = pd.read_csv(\"../Datasets/dataset1.csv\")\n",
    "df2 = pd.read_csv(\"../Datasets/dataset2.csv\")\n"
   ]
  },
  {
   "cell_type": "markdown",
   "id": "d23133e8",
   "metadata": {},
   "source": [
    "Data Cleaning / Preparation"
   ]
  },
  {
   "cell_type": "code",
   "execution_count": 35,
   "id": "6a2fa8a8",
   "metadata": {},
   "outputs": [
    {
     "name": "stdout",
     "output_type": "stream",
     "text": [
      "         start_time  bat_landing_to_food habit  rat_period_start  \\\n",
      "0  30/12/2017 18:37            16.000000   rat  30/12/2017 18:35   \n",
      "1  30/12/2017 19:51             0.074016  fast  30/12/2017 19:50   \n",
      "2  30/12/2017 19:51             4.000000  fast  30/12/2017 19:50   \n",
      "3  30/12/2017 19:52            10.000000   rat  30/12/2017 19:50   \n",
      "4  30/12/2017 19:54            15.000000   rat  30/12/2017 19:50   \n",
      "\n",
      "     rat_period_end  seconds_after_rat_arrival  risk  reward  month  \\\n",
      "0  30/12/2017 18:38                        108     1       0      0   \n",
      "1  30/12/2017 19:55                         17     0       1      0   \n",
      "2  30/12/2017 19:55                         41     0       1      0   \n",
      "3  30/12/2017 19:55                        111     1       0      0   \n",
      "4  30/12/2017 19:55                        194     1       0      0   \n",
      "\n",
      "        sunset_time  hours_after_sunset  season  \n",
      "0  30/12/2017 16:45            1.870833       0  \n",
      "1  30/12/2017 16:45            3.100833       0  \n",
      "2  30/12/2017 16:45            3.107500       0  \n",
      "3  30/12/2017 16:45            3.126944       0  \n",
      "4  30/12/2017 16:45            3.150000       0  \n"
     ]
    }
   ],
   "source": [
    "print(df1.head())\n",
    "\n"
   ]
  },
  {
   "cell_type": "code",
   "execution_count": 36,
   "id": "9bc9c86d",
   "metadata": {},
   "outputs": [
    {
     "name": "stdout",
     "output_type": "stream",
     "text": [
      "<class 'pandas.core.frame.DataFrame'>\n",
      "RangeIndex: 907 entries, 0 to 906\n",
      "Data columns (total 12 columns):\n",
      " #   Column                     Non-Null Count  Dtype  \n",
      "---  ------                     --------------  -----  \n",
      " 0   start_time                 907 non-null    object \n",
      " 1   bat_landing_to_food        907 non-null    float64\n",
      " 2   habit                      866 non-null    object \n",
      " 3   rat_period_start           907 non-null    object \n",
      " 4   rat_period_end             907 non-null    object \n",
      " 5   seconds_after_rat_arrival  907 non-null    int64  \n",
      " 6   risk                       907 non-null    int64  \n",
      " 7   reward                     907 non-null    int64  \n",
      " 8   month                      907 non-null    int64  \n",
      " 9   sunset_time                907 non-null    object \n",
      " 10  hours_after_sunset         907 non-null    float64\n",
      " 11  season                     907 non-null    int64  \n",
      "dtypes: float64(2), int64(5), object(5)\n",
      "memory usage: 85.2+ KB\n",
      "None\n"
     ]
    }
   ],
   "source": [
    "\n",
    "print(df1.info())\n",
    "\n"
   ]
  },
  {
   "cell_type": "code",
   "execution_count": 37,
   "id": "44897b54",
   "metadata": {},
   "outputs": [
    {
     "name": "stdout",
     "output_type": "stream",
     "text": [
      "<class 'pandas.core.frame.DataFrame'>\n",
      "RangeIndex: 2123 entries, 0 to 2122\n",
      "Data columns (total 7 columns):\n",
      " #   Column              Non-Null Count  Dtype  \n",
      "---  ------              --------------  -----  \n",
      " 0   time                2123 non-null   object \n",
      " 1   month               2123 non-null   int64  \n",
      " 2   hours_after_sunset  2123 non-null   float64\n",
      " 3   bat_landing_number  2123 non-null   int64  \n",
      " 4   food_availability   2123 non-null   float64\n",
      " 5   rat_minutes         2123 non-null   float64\n",
      " 6   rat_arrival_number  2123 non-null   int64  \n",
      "dtypes: float64(3), int64(3), object(1)\n",
      "memory usage: 116.2+ KB\n",
      "None\n"
     ]
    }
   ],
   "source": [
    "print(df2.info())"
   ]
  },
  {
   "cell_type": "code",
   "execution_count": 38,
   "id": "89209796",
   "metadata": {},
   "outputs": [
    {
     "name": "stdout",
     "output_type": "stream",
     "text": [
      "               time  month  hours_after_sunset  bat_landing_number  \\\n",
      "0  26/12/2017 16:13      0                -0.5                  20   \n",
      "1  26/12/2017 16:43      0                 0.0                  28   \n",
      "2  26/12/2017 17:13      0                 0.5                  25   \n",
      "3  26/12/2017 17:43      0                 1.0                  71   \n",
      "4  26/12/2017 18:13      0                 1.5                  44   \n",
      "\n",
      "   food_availability  rat_minutes  rat_arrival_number  \n",
      "0           4.000000          0.0                   0  \n",
      "1           4.000000          0.0                   0  \n",
      "2           4.000000          0.0                   0  \n",
      "3           4.000000          0.0                   0  \n",
      "4           3.753857          0.0                   0  \n"
     ]
    }
   ],
   "source": [
    "print(df2.head())"
   ]
  },
  {
   "cell_type": "code",
   "execution_count": 39,
   "id": "d1002084",
   "metadata": {},
   "outputs": [
    {
     "name": "stderr",
     "output_type": "stream",
     "text": [
      "/var/folders/q5/vh3rb16n1v3bpctgx25j0cmh0000gn/T/ipykernel_4497/135663909.py:4: UserWarning: Parsing dates in %d/%m/%Y %H:%M format when dayfirst=False (the default) was specified. Pass `dayfirst=True` or specify a format to silence this warning.\n",
      "  df1[col] = pd.to_datetime(df1[col], errors='coerce')  # errors='coerce' turns invalid into NaT\n",
      "/var/folders/q5/vh3rb16n1v3bpctgx25j0cmh0000gn/T/ipykernel_4497/135663909.py:4: UserWarning: Parsing dates in %d/%m/%Y %H:%M format when dayfirst=False (the default) was specified. Pass `dayfirst=True` or specify a format to silence this warning.\n",
      "  df1[col] = pd.to_datetime(df1[col], errors='coerce')  # errors='coerce' turns invalid into NaT\n",
      "/var/folders/q5/vh3rb16n1v3bpctgx25j0cmh0000gn/T/ipykernel_4497/135663909.py:4: UserWarning: Parsing dates in %d/%m/%Y %H:%M format when dayfirst=False (the default) was specified. Pass `dayfirst=True` or specify a format to silence this warning.\n",
      "  df1[col] = pd.to_datetime(df1[col], errors='coerce')  # errors='coerce' turns invalid into NaT\n",
      "/var/folders/q5/vh3rb16n1v3bpctgx25j0cmh0000gn/T/ipykernel_4497/135663909.py:4: UserWarning: Parsing dates in %d/%m/%Y %H:%M format when dayfirst=False (the default) was specified. Pass `dayfirst=True` or specify a format to silence this warning.\n",
      "  df1[col] = pd.to_datetime(df1[col], errors='coerce')  # errors='coerce' turns invalid into NaT\n",
      "/var/folders/q5/vh3rb16n1v3bpctgx25j0cmh0000gn/T/ipykernel_4497/135663909.py:8: UserWarning: Parsing dates in %d/%m/%Y %H:%M format when dayfirst=False (the default) was specified. Pass `dayfirst=True` or specify a format to silence this warning.\n",
      "  df2[col] = pd.to_datetime(df2[col], errors='coerce')\n"
     ]
    }
   ],
   "source": [
    "# Convert time-related columns to datetime\n",
    "time_columns_df1 = ['start_time', 'rat_period_start', 'rat_period_end', 'sunset_time']\n",
    "for col in time_columns_df1:\n",
    "    df1[col] = pd.to_datetime(df1[col], errors='coerce')  # errors='coerce' turns invalid into NaT\n",
    "\n",
    "time_columns_df2 = ['time']\n",
    "for col in time_columns_df2:\n",
    "    df2[col] = pd.to_datetime(df2[col], errors='coerce')\n"
   ]
  },
  {
   "cell_type": "code",
   "execution_count": 40,
   "id": "b415608b",
   "metadata": {},
   "outputs": [],
   "source": [
    "# Convert numeric columns to float\n",
    "numeric_cols_df1 = ['bat_landing_to_food', 'hours_after_sunset', 'seconds_after_rat_arrival']\n",
    "df1[numeric_cols_df1] = df1[numeric_cols_df1].astype(float)\n",
    "\n",
    "numeric_cols_df2 = ['hours_after_sunset', 'bat_landing_number', 'food_availability', 'rat_minutes', 'rat_arrival_number']\n",
    "df2[numeric_cols_df2] = df2[numeric_cols_df2].astype(float)\n"
   ]
  },
  {
   "cell_type": "code",
   "execution_count": 41,
   "id": "1e2ef0da",
   "metadata": {},
   "outputs": [],
   "source": [
    "# Drop rows with missing values\n",
    "df1.dropna(inplace=True)\n",
    "df2.dropna(inplace=True)\n"
   ]
  },
  {
   "cell_type": "code",
   "execution_count": 42,
   "id": "dec36137",
   "metadata": {},
   "outputs": [],
   "source": [
    "# Cleaning df1\n",
    "time_columns_df1 = ['start_time', 'rat_period_start', 'rat_period_end', 'sunset_time']\n",
    "for col in time_columns_df1:\n",
    "    df1[col] = pd.to_datetime(df1[col], errors='coerce')\n",
    "\n",
    "numeric_cols_df1 = ['bat_landing_to_food', 'hours_after_sunset', 'seconds_after_rat_arrival']\n",
    "df1[numeric_cols_df1] = df1[numeric_cols_df1].astype(float)\n",
    "\n",
    "df1.dropna(inplace=True)\n",
    "\n",
    "# Cleaning df2\n",
    "time_columns_df2 = ['time']\n",
    "for col in time_columns_df2:\n",
    "    df2[col] = pd.to_datetime(df2[col], errors='coerce')\n",
    "\n",
    "numeric_cols_df2 = ['hours_after_sunset', 'bat_landing_number', 'food_availability', \n",
    "                    'rat_minutes', 'rat_arrival_number']\n",
    "df2[numeric_cols_df2] = df2[numeric_cols_df2].astype(float)\n",
    "\n",
    "df2.dropna(inplace=True)\n"
   ]
  },
  {
   "cell_type": "code",
   "execution_count": 43,
   "id": "88529844",
   "metadata": {},
   "outputs": [
    {
     "name": "stdout",
     "output_type": "stream",
     "text": [
      "Dataset 1 info after cleaning:\n",
      "<class 'pandas.core.frame.DataFrame'>\n",
      "Index: 866 entries, 0 to 906\n",
      "Data columns (total 12 columns):\n",
      " #   Column                     Non-Null Count  Dtype         \n",
      "---  ------                     --------------  -----         \n",
      " 0   start_time                 866 non-null    datetime64[ns]\n",
      " 1   bat_landing_to_food        866 non-null    float64       \n",
      " 2   habit                      866 non-null    object        \n",
      " 3   rat_period_start           866 non-null    datetime64[ns]\n",
      " 4   rat_period_end             866 non-null    datetime64[ns]\n",
      " 5   seconds_after_rat_arrival  866 non-null    float64       \n",
      " 6   risk                       866 non-null    int64         \n",
      " 7   reward                     866 non-null    int64         \n",
      " 8   month                      866 non-null    int64         \n",
      " 9   sunset_time                866 non-null    datetime64[ns]\n",
      " 10  hours_after_sunset         866 non-null    float64       \n",
      " 11  season                     866 non-null    int64         \n",
      "dtypes: datetime64[ns](4), float64(3), int64(4), object(1)\n",
      "memory usage: 88.0+ KB\n",
      "None\n",
      "\n",
      "Missing values per column (df1):\n",
      "start_time                   0\n",
      "bat_landing_to_food          0\n",
      "habit                        0\n",
      "rat_period_start             0\n",
      "rat_period_end               0\n",
      "seconds_after_rat_arrival    0\n",
      "risk                         0\n",
      "reward                       0\n",
      "month                        0\n",
      "sunset_time                  0\n",
      "hours_after_sunset           0\n",
      "season                       0\n",
      "dtype: int64\n",
      "\n",
      "==================================================\n",
      "\n"
     ]
    }
   ],
   "source": [
    "# Check dataset info after cleaning\n",
    "print(\"Dataset 1 info after cleaning:\")\n",
    "print(df1.info())\n",
    "print(\"\\nMissing values per column (df1):\")\n",
    "print(df1.isnull().sum())\n",
    "\n",
    "print(\"\\n\" + \"=\"*50 + \"\\n\")\n"
   ]
  },
  {
   "cell_type": "code",
   "execution_count": 44,
   "id": "58db9e26",
   "metadata": {},
   "outputs": [
    {
     "name": "stdout",
     "output_type": "stream",
     "text": [
      "Dataset 2 info after cleaning:\n",
      "<class 'pandas.core.frame.DataFrame'>\n",
      "RangeIndex: 2123 entries, 0 to 2122\n",
      "Data columns (total 7 columns):\n",
      " #   Column              Non-Null Count  Dtype         \n",
      "---  ------              --------------  -----         \n",
      " 0   time                2123 non-null   datetime64[ns]\n",
      " 1   month               2123 non-null   int64         \n",
      " 2   hours_after_sunset  2123 non-null   float64       \n",
      " 3   bat_landing_number  2123 non-null   float64       \n",
      " 4   food_availability   2123 non-null   float64       \n",
      " 5   rat_minutes         2123 non-null   float64       \n",
      " 6   rat_arrival_number  2123 non-null   float64       \n",
      "dtypes: datetime64[ns](1), float64(5), int64(1)\n",
      "memory usage: 116.2 KB\n",
      "None\n",
      "\n",
      "Missing values per column (df2):\n",
      "time                  0\n",
      "month                 0\n",
      "hours_after_sunset    0\n",
      "bat_landing_number    0\n",
      "food_availability     0\n",
      "rat_minutes           0\n",
      "rat_arrival_number    0\n",
      "dtype: int64\n"
     ]
    }
   ],
   "source": [
    "print(\"Dataset 2 info after cleaning:\")\n",
    "print(df2.info())\n",
    "print(\"\\nMissing values per column (df2):\")\n",
    "print(df2.isnull().sum())"
   ]
  },
  {
   "cell_type": "markdown",
   "id": "ea9a4d2f",
   "metadata": {},
   "source": [
    "Count risk-taking vs avoidance:"
   ]
  },
  {
   "cell_type": "code",
   "execution_count": 45,
   "id": "d230f73c",
   "metadata": {},
   "outputs": [
    {
     "name": "stdout",
     "output_type": "stream",
     "text": [
      "risk\n",
      "1    449\n",
      "0    417\n",
      "Name: count, dtype: int64\n"
     ]
    }
   ],
   "source": [
    "risk_counts = df1['risk'].value_counts()\n",
    "print(risk_counts)"
   ]
  },
  {
   "cell_type": "markdown",
   "id": "141bf0f6",
   "metadata": {},
   "source": [
    "Proportion of avoidance:"
   ]
  },
  {
   "cell_type": "code",
   "execution_count": 46,
   "id": "fa315e6a",
   "metadata": {},
   "outputs": [
    {
     "name": "stdout",
     "output_type": "stream",
     "text": [
      "Avoidance rate: 0.4815242494226328\n"
     ]
    }
   ],
   "source": [
    "avoidance_rate = (df1['risk'] == 0).mean()\n",
    "print(\"Avoidance rate:\", avoidance_rate)"
   ]
  },
  {
   "cell_type": "markdown",
   "id": "c1d0edf5",
   "metadata": {},
   "source": [
    "Rewards:"
   ]
  },
  {
   "cell_type": "code",
   "execution_count": 47,
   "id": "cd4c34ef",
   "metadata": {},
   "outputs": [
    {
     "name": "stdout",
     "output_type": "stream",
     "text": [
      "Reward rate: 0.558891454965358\n"
     ]
    }
   ],
   "source": [
    "reward_rate = (df1['reward'] == 1).mean()\n",
    "print(\"Reward rate:\", reward_rate)"
   ]
  },
  {
   "cell_type": "markdown",
   "id": "1e57ee8f",
   "metadata": {},
   "source": [
    "Average delay before food (bat_landing_to_food):"
   ]
  },
  {
   "cell_type": "code",
   "execution_count": 48,
   "id": "d43be93a",
   "metadata": {},
   "outputs": [
    {
     "name": "stdout",
     "output_type": "stream",
     "text": [
      "Mean landing-to-food time: 11.860369096964202\n",
      "Median landing-to-food time: 4.0\n"
     ]
    }
   ],
   "source": [
    "print(\"Mean landing-to-food time:\", df1['bat_landing_to_food'].mean())\n",
    "print(\"Median landing-to-food time:\", statistics.median(df1['bat_landing_to_food']))"
   ]
  },
  {
   "cell_type": "markdown",
   "id": "95d4299e",
   "metadata": {},
   "source": [
    "Average rat arrivals per 30 mins:"
   ]
  },
  {
   "cell_type": "code",
   "execution_count": 49,
   "id": "af17b9ab",
   "metadata": {},
   "outputs": [
    {
     "name": "stdout",
     "output_type": "stream",
     "text": [
      "Mean rat arrivals: 0.44465379180405085\n"
     ]
    }
   ],
   "source": [
    "print(\"Mean rat arrivals:\", df2['rat_arrival_number'].mean())"
   ]
  },
  {
   "cell_type": "markdown",
   "id": "b4aa1780",
   "metadata": {},
   "source": [
    "Relationship between rat presence and bat landings:"
   ]
  },
  {
   "cell_type": "code",
   "execution_count": 50,
   "id": "f417bd5f",
   "metadata": {},
   "outputs": [
    {
     "data": {
      "text/html": [
       "<div>\n",
       "<style scoped>\n",
       "    .dataframe tbody tr th:only-of-type {\n",
       "        vertical-align: middle;\n",
       "    }\n",
       "\n",
       "    .dataframe tbody tr th {\n",
       "        vertical-align: top;\n",
       "    }\n",
       "\n",
       "    .dataframe thead th {\n",
       "        text-align: right;\n",
       "    }\n",
       "</style>\n",
       "<table border=\"1\" class=\"dataframe\">\n",
       "  <thead>\n",
       "    <tr style=\"text-align: right;\">\n",
       "      <th>reward</th>\n",
       "      <th>0</th>\n",
       "      <th>1</th>\n",
       "    </tr>\n",
       "    <tr>\n",
       "      <th>risk</th>\n",
       "      <th></th>\n",
       "      <th></th>\n",
       "    </tr>\n",
       "  </thead>\n",
       "  <tbody>\n",
       "    <tr>\n",
       "      <th>0</th>\n",
       "      <td>31</td>\n",
       "      <td>386</td>\n",
       "    </tr>\n",
       "    <tr>\n",
       "      <th>1</th>\n",
       "      <td>351</td>\n",
       "      <td>98</td>\n",
       "    </tr>\n",
       "  </tbody>\n",
       "</table>\n",
       "</div>"
      ],
      "text/plain": [
       "reward    0    1\n",
       "risk            \n",
       "0        31  386\n",
       "1       351   98"
      ]
     },
     "execution_count": 50,
     "metadata": {},
     "output_type": "execute_result"
    }
   ],
   "source": [
    "pd.crosstab(df1['risk'], df1['reward'])\n"
   ]
  },
  {
   "cell_type": "markdown",
   "id": "c0ca2980",
   "metadata": {},
   "source": [
    "Proportion Test – Do bats avoid more than take risks?"
   ]
  },
  {
   "cell_type": "code",
   "execution_count": 51,
   "id": "3a9fcd16",
   "metadata": {},
   "outputs": [
    {
     "name": "stdout",
     "output_type": "stream",
     "text": [
      "Correlation between rat_minutes and bat_landing_number: -0.14622750084478836\n"
     ]
    }
   ],
   "source": [
    "corr = df2['rat_minutes'].corr(df2['bat_landing_number'])\n",
    "print(\"Correlation between rat_minutes and bat_landing_number:\", corr)"
   ]
  },
  {
   "cell_type": "markdown",
   "id": "49057dfe",
   "metadata": {},
   "source": [
    "One-sample t-test – Is mean delay > 0 (do bats hesitate when rats around)?"
   ]
  },
  {
   "cell_type": "code",
   "execution_count": 52,
   "id": "e2964d38",
   "metadata": {},
   "outputs": [
    {
     "name": "stdout",
     "output_type": "stream",
     "text": [
      "Proportion risk-taking 95% CI: 0.48519734954993826 0.5517541516047961\n"
     ]
    }
   ],
   "source": [
    "count_risk = (df1['risk'] == 1).sum()\n",
    "n = len(df1)\n",
    "ci_low, ci_high = proportion.proportion_confint(count_risk, n, alpha=0.05, method='normal')\n",
    "print(\"Proportion risk-taking 95% CI:\", ci_low, ci_high)"
   ]
  },
  {
   "cell_type": "markdown",
   "id": "9c9ea84f",
   "metadata": {},
   "source": [
    " Two-sample t-test – Compare delay when risk-taking vs avoidance"
   ]
  },
  {
   "cell_type": "code",
   "execution_count": 53,
   "id": "7b18b54f",
   "metadata": {},
   "outputs": [
    {
     "name": "stdout",
     "output_type": "stream",
     "text": [
      "T-test for hesitation: 12.566213678038126 2.1935596926930074e-33\n"
     ]
    }
   ],
   "source": [
    "t_stat, p_val = stats.ttest_1samp(df1['bat_landing_to_food'], 0)\n",
    "print(\"T-test for hesitation:\", t_stat, p_val)"
   ]
  },
  {
   "cell_type": "markdown",
   "id": "0a0ff313",
   "metadata": {},
   "source": [
    "Correlation Test – Rats vs Bats"
   ]
  },
  {
   "cell_type": "code",
   "execution_count": 54,
   "id": "92992037",
   "metadata": {},
   "outputs": [
    {
     "name": "stdout",
     "output_type": "stream",
     "text": [
      "T-test delay (risk vs avoid): 5.1398138838144325 3.5096048166276354e-07\n"
     ]
    }
   ],
   "source": [
    "delay_risk = df1[df1['risk'] == 1]['bat_landing_to_food']\n",
    "delay_avoid = df1[df1['risk'] == 0]['bat_landing_to_food']\n",
    "\n",
    "t_stat, p_val = stats.ttest_ind(delay_risk, delay_avoid, equal_var=False)\n",
    "print(\"T-test delay (risk vs avoid):\", t_stat, p_val)"
   ]
  },
  {
   "cell_type": "code",
   "execution_count": 55,
   "id": "b8f861ee",
   "metadata": {},
   "outputs": [
    {
     "name": "stdout",
     "output_type": "stream",
     "text": [
      "Pearson correlation: -0.14622750084478847 p-value: 1.2875253590004781e-11\n"
     ]
    }
   ],
   "source": [
    "corr, p_val = stats.pearsonr(df2['rat_minutes'], df2['bat_landing_number'])\n",
    "print(\"Pearson correlation:\", corr, \"p-value:\", p_val)"
   ]
  },
  {
   "cell_type": "markdown",
   "id": "472857fc",
   "metadata": {},
   "source": [
    "Visualization"
   ]
  },
  {
   "cell_type": "code",
   "execution_count": 56,
   "id": "9a0a64e5",
   "metadata": {},
   "outputs": [
    {
     "data": {
      "image/png": "[encoded data removed]",
      "text/plain": [
       "<Figure size 640x480 with 1 Axes>"
      ]
     },
     "metadata": {},
     "output_type": "display_data"
    }
   ],
   "source": [
    "import matplotlib.pyplot as plt\n",
    "\n",
    "# Risk vs Avoidance (bar chart)\n",
    "df1['risk'].value_counts().plot(\n",
    "    kind='bar',\n",
    "    title=\"Bat Risk vs Avoidance\",\n",
    "    color=['#1f77b4', '#ff7f0e']   # Blue for avoidance, Orange for risk-taking\n",
    ")\n",
    "plt.xlabel(\"Risk (0 = Avoidance, 1 = Risk-taking)\")\n",
    "plt.ylabel(\"Count\")\n",
    "plt.show()"
   ]
  },
  {
   "cell_type": "code",
   "execution_count": 57,
   "id": "6763c2ce",
   "metadata": {},
   "outputs": [
    {
     "data": {
      "image/png": "[encoded data removed]",
      "text/plain": [
       "<Figure size 640x480 with 1 Axes>"
      ]
     },
     "metadata": {},
     "output_type": "display_data"
    }
   ],
   "source": [
    "# Rat minutes vs Bat landings (scatter plot)\n",
    "plt.scatter(\n",
    "    df2['rat_minutes'], df2['bat_landing_number'],\n",
    "    color='green', alpha=0.7, edgecolors='black'\n",
    ")\n",
    "plt.xlabel(\"Rat Minutes\")\n",
    "plt.ylabel(\"Bat Landings\")\n",
    "plt.title(\"Rat Presence vs Bat Landings\")\n",
    "plt.show()"
   ]
  },
  {
   "cell_type": "code",
   "execution_count": null,
   "id": "2eee4973",
   "metadata": {},
   "outputs": [],
   "source": []
  }
 ],
 "metadata": {
  "kernelspec": {
   "display_name": "base",
   "language": "python",
   "name": "python3"
  },
  "language_info": {
   "codemirror_mode": {
    "name": "ipython",
    "version": 3
   },
   "file_extension": ".py",
   "mimetype": "text/x-python",
   "name": "python",
   "nbconvert_exporter": "python",
   "pygments_lexer": "ipython3",
   "version": "3.13.5"
  }
 },
 "nbformat": 4,
 "nbformat_minor": 5
}
