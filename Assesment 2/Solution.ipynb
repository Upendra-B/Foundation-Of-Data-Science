{
 "cells": [
  {
   "cell_type": "markdown",
   "id": "12b60b03",
   "metadata": {},
   "source": [
    "Imports\n"
   ]
  },
  {
   "cell_type": "code",
   "execution_count": 4,
   "id": "20870fad",
   "metadata": {},
   "outputs": [],
   "source": [
    "import pandas as pd\n",
    "import numpy as np\n",
    "import statistics\n",
    "from scipy import stats\n",
    "from statsmodels.stats import proportion\n"
   ]
  },
  {
   "cell_type": "code",
   "execution_count": 5,
   "id": "97fa7cfb",
   "metadata": {},
   "outputs": [],
   "source": [
    "df1 = pd.read_csv(\"../Datasets/dataset1.csv\")\n",
    "df2 = pd.read_csv(\"../Datasets/dataset2.csv\")\n"
   ]
  },
  {
   "cell_type": "code",
   "execution_count": 7,
   "id": "6a2fa8a8",
   "metadata": {},
   "outputs": [
    {
     "name": "stdout",
     "output_type": "stream",
     "text": [
      "         start_time  bat_landing_to_food habit  rat_period_start  \\\n",
      "0  30/12/2017 18:37            16.000000   rat  30/12/2017 18:35   \n",
      "1  30/12/2017 19:51             0.074016  fast  30/12/2017 19:50   \n",
      "2  30/12/2017 19:51             4.000000  fast  30/12/2017 19:50   \n",
      "3  30/12/2017 19:52            10.000000   rat  30/12/2017 19:50   \n",
      "4  30/12/2017 19:54            15.000000   rat  30/12/2017 19:50   \n",
      "\n",
      "     rat_period_end  seconds_after_rat_arrival  risk  reward  month  \\\n",
      "0  30/12/2017 18:38                        108     1       0      0   \n",
      "1  30/12/2017 19:55                         17     0       1      0   \n",
      "2  30/12/2017 19:55                         41     0       1      0   \n",
      "3  30/12/2017 19:55                        111     1       0      0   \n",
      "4  30/12/2017 19:55                        194     1       0      0   \n",
      "\n",
      "        sunset_time  hours_after_sunset  season  \n",
      "0  30/12/2017 16:45            1.870833       0  \n",
      "1  30/12/2017 16:45            3.100833       0  \n",
      "2  30/12/2017 16:45            3.107500       0  \n",
      "3  30/12/2017 16:45            3.126944       0  \n",
      "4  30/12/2017 16:45            3.150000       0  \n"
     ]
    }
   ],
   "source": [
    "print(df1.head())\n",
    "\n"
   ]
  },
  {
   "cell_type": "code",
   "execution_count": 8,
   "id": "9bc9c86d",
   "metadata": {},
   "outputs": [
    {
     "name": "stdout",
     "output_type": "stream",
     "text": [
      "<class 'pandas.core.frame.DataFrame'>\n",
      "RangeIndex: 907 entries, 0 to 906\n",
      "Data columns (total 12 columns):\n",
      " #   Column                     Non-Null Count  Dtype  \n",
      "---  ------                     --------------  -----  \n",
      " 0   start_time                 907 non-null    object \n",
      " 1   bat_landing_to_food        907 non-null    float64\n",
      " 2   habit                      866 non-null    object \n",
      " 3   rat_period_start           907 non-null    object \n",
      " 4   rat_period_end             907 non-null    object \n",
      " 5   seconds_after_rat_arrival  907 non-null    int64  \n",
      " 6   risk                       907 non-null    int64  \n",
      " 7   reward                     907 non-null    int64  \n",
      " 8   month                      907 non-null    int64  \n",
      " 9   sunset_time                907 non-null    object \n",
      " 10  hours_after_sunset         907 non-null    float64\n",
      " 11  season                     907 non-null    int64  \n",
      "dtypes: float64(2), int64(5), object(5)\n",
      "memory usage: 85.2+ KB\n",
      "None\n"
     ]
    }
   ],
   "source": [
    "\n",
    "print(df1.info())\n",
    "\n"
   ]
  },
  {
   "cell_type": "code",
   "execution_count": 9,
   "id": "44897b54",
   "metadata": {},
   "outputs": [
    {
     "name": "stdout",
     "output_type": "stream",
     "text": [
      "<class 'pandas.core.frame.DataFrame'>\n",
      "RangeIndex: 2123 entries, 0 to 2122\n",
      "Data columns (total 7 columns):\n",
      " #   Column              Non-Null Count  Dtype  \n",
      "---  ------              --------------  -----  \n",
      " 0   time                2123 non-null   object \n",
      " 1   month               2123 non-null   int64  \n",
      " 2   hours_after_sunset  2123 non-null   float64\n",
      " 3   bat_landing_number  2123 non-null   int64  \n",
      " 4   food_availability   2123 non-null   float64\n",
      " 5   rat_minutes         2123 non-null   float64\n",
      " 6   rat_arrival_number  2123 non-null   int64  \n",
      "dtypes: float64(3), int64(3), object(1)\n",
      "memory usage: 116.2+ KB\n",
      "None\n"
     ]
    }
   ],
   "source": [
    "print(df2.info())"
   ]
  },
  {
   "cell_type": "code",
   "execution_count": 11,
   "id": "89209796",
   "metadata": {},
   "outputs": [
    {
     "name": "stdout",
     "output_type": "stream",
     "text": [
      "               time  month  hours_after_sunset  bat_landing_number  \\\n",
      "0  26/12/2017 16:13      0                -0.5                  20   \n",
      "1  26/12/2017 16:43      0                 0.0                  28   \n",
      "2  26/12/2017 17:13      0                 0.5                  25   \n",
      "3  26/12/2017 17:43      0                 1.0                  71   \n",
      "4  26/12/2017 18:13      0                 1.5                  44   \n",
      "\n",
      "   food_availability  rat_minutes  rat_arrival_number  \n",
      "0           4.000000          0.0                   0  \n",
      "1           4.000000          0.0                   0  \n",
      "2           4.000000          0.0                   0  \n",
      "3           4.000000          0.0                   0  \n",
      "4           3.753857          0.0                   0  \n"
     ]
    }
   ],
   "source": [
    "print(df2.head())"
   ]
  },
  {
   "cell_type": "code",
   "execution_count": 12,
   "id": "d230f73c",
   "metadata": {},
   "outputs": [
    {
     "name": "stdout",
     "output_type": "stream",
     "text": [
      "risk\n",
      "0    458\n",
      "1    449\n",
      "Name: count, dtype: int64\n"
     ]
    }
   ],
   "source": [
    "risk_counts = df1['risk'].value_counts()\n",
    "print(risk_counts)"
   ]
  },
  {
   "cell_type": "code",
   "execution_count": 13,
   "id": "fa315e6a",
   "metadata": {},
   "outputs": [
    {
     "name": "stdout",
     "output_type": "stream",
     "text": [
      "Avoidance rate: 0.5049614112458655\n"
     ]
    }
   ],
   "source": [
    "avoidance_rate = (df1['risk'] == 0).mean()\n",
    "print(\"Avoidance rate:\", avoidance_rate)"
   ]
  },
  {
   "cell_type": "code",
   "execution_count": 14,
   "id": "cd4c34ef",
   "metadata": {},
   "outputs": [
    {
     "name": "stdout",
     "output_type": "stream",
     "text": [
      "Reward rate: 0.5336273428886439\n"
     ]
    }
   ],
   "source": [
    "reward_rate = (df1['reward'] == 1).mean()\n",
    "print(\"Reward rate:\", reward_rate)"
   ]
  },
  {
   "cell_type": "code",
   "execution_count": 15,
   "id": "d43be93a",
   "metadata": {},
   "outputs": [
    {
     "name": "stdout",
     "output_type": "stream",
     "text": [
      "Mean landing-to-food time: 11.713133940775084\n",
      "Median landing-to-food time: 4.0\n"
     ]
    }
   ],
   "source": [
    "print(\"Mean landing-to-food time:\", df1['bat_landing_to_food'].mean())\n",
    "print(\"Median landing-to-food time:\", statistics.median(df1['bat_landing_to_food']))"
   ]
  },
  {
   "cell_type": "code",
   "execution_count": 16,
   "id": "af17b9ab",
   "metadata": {},
   "outputs": [
    {
     "name": "stdout",
     "output_type": "stream",
     "text": [
      "Mean rat arrivals: 0.44465379180405085\n"
     ]
    }
   ],
   "source": [
    "print(\"Mean rat arrivals:\", df2['rat_arrival_number'].mean())"
   ]
  },
  {
   "cell_type": "code",
   "execution_count": 17,
   "id": "3a9fcd16",
   "metadata": {},
   "outputs": [
    {
     "name": "stdout",
     "output_type": "stream",
     "text": [
      "Correlation between rat_minutes and bat_landing_number: -0.14622750084478836\n"
     ]
    }
   ],
   "source": [
    "corr = df2['rat_minutes'].corr(df2['bat_landing_number'])\n",
    "print(\"Correlation between rat_minutes and bat_landing_number:\", corr)"
   ]
  },
  {
   "cell_type": "code",
   "execution_count": 18,
   "id": "e2964d38",
   "metadata": {},
   "outputs": [
    {
     "name": "stdout",
     "output_type": "stream",
     "text": [
      "Proportion risk-taking 95% CI: 0.46250042279398046 0.5275767547142886\n"
     ]
    }
   ],
   "source": [
    "count_risk = (df1['risk'] == 1).sum()\n",
    "n = len(df1)\n",
    "ci_low, ci_high = proportion.proportion_confint(count_risk, n, alpha=0.05, method='normal')\n",
    "print(\"Proportion risk-taking 95% CI:\", ci_low, ci_high)"
   ]
  },
  {
   "cell_type": "code",
   "execution_count": 19,
   "id": "7b18b54f",
   "metadata": {},
   "outputs": [
    {
     "name": "stdout",
     "output_type": "stream",
     "text": [
      "T-test for hesitation: 12.760551147028764 2.0529332992152506e-34\n"
     ]
    }
   ],
   "source": [
    "t_stat, p_val = stats.ttest_1samp(df1['bat_landing_to_food'], 0)\n",
    "print(\"T-test for hesitation:\", t_stat, p_val)"
   ]
  },
  {
   "cell_type": "code",
   "execution_count": 20,
   "id": "92992037",
   "metadata": {},
   "outputs": [
    {
     "name": "stdout",
     "output_type": "stream",
     "text": [
      "T-test delay (risk vs avoid): 5.0964658799597675 4.3836454381476383e-07\n"
     ]
    }
   ],
   "source": [
    "delay_risk = df1[df1['risk'] == 1]['bat_landing_to_food']\n",
    "delay_avoid = df1[df1['risk'] == 0]['bat_landing_to_food']\n",
    "\n",
    "t_stat, p_val = stats.ttest_ind(delay_risk, delay_avoid, equal_var=False)\n",
    "print(\"T-test delay (risk vs avoid):\", t_stat, p_val)"
   ]
  },
  {
   "cell_type": "code",
   "execution_count": 21,
   "id": "b8f861ee",
   "metadata": {},
   "outputs": [
    {
     "name": "stdout",
     "output_type": "stream",
     "text": [
      "Pearson correlation: -0.14622750084478847 p-value: 1.2875253590004781e-11\n"
     ]
    }
   ],
   "source": [
    "corr, p_val = stats.pearsonr(df2['rat_minutes'], df2['bat_landing_number'])\n",
    "print(\"Pearson correlation:\", corr, \"p-value:\", p_val)"
   ]
  },
  {
   "cell_type": "code",
   "execution_count": 22,
   "id": "9a0a64e5",
   "metadata": {},
   "outputs": [
    {
     "data": {
      "image/png": "[encoded data removed]",
      "text/plain": [
       "<Figure size 640x480 with 1 Axes>"
      ]
     },
     "metadata": {},
     "output_type": "display_data"
    },
    {
     "data": {
      "image/png": "[encoded data removed]",
      "text/plain": [
       "<Figure size 640x480 with 1 Axes>"
      ]
     },
     "metadata": {},
     "output_type": "display_data"
    }
   ],
   "source": [
    "import matplotlib.pyplot as plt\n",
    "\n",
    "# Risk vs Avoidance\n",
    "df1['risk'].value_counts().plot(kind='bar', title=\"Bat Risk vs Avoidance\")\n",
    "plt.show()\n",
    "\n",
    "# Rat minutes vs Bat landings\n",
    "plt.scatter(df2['rat_minutes'], df2['bat_landing_number'])\n",
    "plt.xlabel(\"Rat Minutes\")\n",
    "plt.ylabel(\"Bat Landings\")\n",
    "plt.title(\"Rat presence vs Bat landings\")\n",
    "plt.show()"
   ]
  },
  {
   "cell_type": "code",
   "execution_count": null,
   "id": "9f6d9261",
   "metadata": {},
   "outputs": [],
   "source": []
  }
 ],
 "metadata": {
  "kernelspec": {
   "display_name": "base",
   "language": "python",
   "name": "python3"
  },
  "language_info": {
   "codemirror_mode": {
    "name": "ipython",
    "version": 3
   },
   "file_extension": ".py",
   "mimetype": "text/x-python",
   "name": "python",
   "nbconvert_exporter": "python",
   "pygments_lexer": "ipython3",
   "version": "3.13.5"
  }
 },
 "nbformat": 4,
 "nbformat_minor": 5
}
